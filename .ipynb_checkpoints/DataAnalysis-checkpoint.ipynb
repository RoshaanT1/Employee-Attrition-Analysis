{
 "cells": [
  {
   "cell_type": "code",
   "execution_count": 24,
   "id": "ad0203b4-2755-4514-bfa1-7a25643dec37",
   "metadata": {},
   "outputs": [
    {
     "name": "stderr",
     "output_type": "stream",
     "text": [
      "C:\\Users\\HP\\AppData\\Local\\Temp\\ipykernel_10600\\2136459941.py:9: DeprecationWarning: load_dataset is deprecated and will be removed in a future version.\n",
      "  df = kagglehub.load_dataset(\n"
     ]
    },
    {
     "name": "stdout",
     "output_type": "stream",
     "text": [
      "First 5 records:    Age Attrition     BusinessTravel  DailyRate              Department  \\\n",
      "0   41       Yes      Travel_Rarely       1102                   Sales   \n",
      "1   49        No  Travel_Frequently        279  Research & Development   \n",
      "2   37       Yes      Travel_Rarely       1373  Research & Development   \n",
      "3   33        No  Travel_Frequently       1392  Research & Development   \n",
      "4   27        No      Travel_Rarely        591  Research & Development   \n",
      "\n",
      "   DistanceFromHome  Education EducationField  EmployeeCount  EmployeeNumber  \\\n",
      "0                 1          2  Life Sciences              1               1   \n",
      "1                 8          1  Life Sciences              1               2   \n",
      "2                 2          2          Other              1               4   \n",
      "3                 3          4  Life Sciences              1               5   \n",
      "4                 2          1        Medical              1               7   \n",
      "\n",
      "   ...  RelationshipSatisfaction StandardHours  StockOptionLevel  \\\n",
      "0  ...                         1            80                 0   \n",
      "1  ...                         4            80                 1   \n",
      "2  ...                         2            80                 0   \n",
      "3  ...                         3            80                 0   \n",
      "4  ...                         4            80                 1   \n",
      "\n",
      "   TotalWorkingYears  TrainingTimesLastYear WorkLifeBalance  YearsAtCompany  \\\n",
      "0                  8                      0               1               6   \n",
      "1                 10                      3               3              10   \n",
      "2                  7                      3               3               0   \n",
      "3                  8                      3               3               8   \n",
      "4                  6                      3               3               2   \n",
      "\n",
      "  YearsInCurrentRole  YearsSinceLastPromotion  YearsWithCurrManager  \n",
      "0                  4                        0                     5  \n",
      "1                  7                        1                     7  \n",
      "2                  0                        0                     0  \n",
      "3                  7                        3                     0  \n",
      "4                  2                        2                     2  \n",
      "\n",
      "[5 rows x 35 columns]\n"
     ]
    }
   ],
   "source": [
    "# pip install kagglehub[pandas-datasets]\n",
    "import kagglehub\n",
    "from kagglehub import KaggleDatasetAdapter\n",
    "\n",
    "# Correct file name from the dataset\n",
    "file_path = \"WA_Fn-UseC_-HR-Employee-Attrition.csv\"\n",
    "\n",
    "# Load the latest version\n",
    "df = kagglehub.load_dataset(\n",
    "    KaggleDatasetAdapter.PANDAS,\n",
    "    \"pavansubhasht/ibm-hr-analytics-attrition-dataset\",\n",
    "    file_path\n",
    ")\n",
    "\n",
    "print(\"First 5 records:\", df.head())\n"
   ]
  },
  {
   "cell_type": "code",
   "execution_count": 25,
   "id": "19bf0e7a-11b0-4311-ad30-06a06adebcdc",
   "metadata": {},
   "outputs": [
    {
     "name": "stdout",
     "output_type": "stream",
     "text": [
      "Index(['Age', 'Attrition', 'BusinessTravel', 'DailyRate', 'Department',\n",
      "       'DistanceFromHome', 'Education', 'EducationField', 'EmployeeCount',\n",
      "       'EmployeeNumber', 'EnvironmentSatisfaction', 'Gender', 'HourlyRate',\n",
      "       'JobInvolvement', 'JobLevel', 'JobRole', 'JobSatisfaction',\n",
      "       'MaritalStatus', 'MonthlyIncome', 'MonthlyRate', 'NumCompaniesWorked',\n",
      "       'Over18', 'OverTime', 'PercentSalaryHike', 'PerformanceRating',\n",
      "       'RelationshipSatisfaction', 'StandardHours', 'StockOptionLevel',\n",
      "       'TotalWorkingYears', 'TrainingTimesLastYear', 'WorkLifeBalance',\n",
      "       'YearsAtCompany', 'YearsInCurrentRole', 'YearsSinceLastPromotion',\n",
      "       'YearsWithCurrManager'],\n",
      "      dtype='object')\n"
     ]
    }
   ],
   "source": [
    "print(df.columns)"
   ]
  },
  {
   "cell_type": "code",
   "execution_count": 10,
   "id": "8e2ee9c3-8b06-47f0-85ca-c98295cd5c18",
   "metadata": {},
   "outputs": [
    {
     "name": "stdout",
     "output_type": "stream",
     "text": [
      "(1470, 35)\n"
     ]
    }
   ],
   "source": [
    "# Total Number of employees: 1470\n",
    "print(df.shape)"
   ]
  },
  {
   "cell_type": "code",
   "execution_count": 15,
   "id": "d4a9bb19-96d8-4853-9814-57610448a6f9",
   "metadata": {},
   "outputs": [
    {
     "name": "stdout",
     "output_type": "stream",
     "text": [
      "1233\n"
     ]
    }
   ],
   "source": [
    "# How many left the company\n",
    "print(df[\"Attrition\"].value_counts()[\"No\"])"
   ]
  },
  {
   "cell_type": "code",
   "execution_count": 23,
   "id": "40932202-1c73-4972-a577-45cf0e29525e",
   "metadata": {},
   "outputs": [
    {
     "name": "stdout",
     "output_type": "stream",
     "text": [
      "Attrition\n",
      "No     38.0\n",
      "Yes    34.0\n",
      "Name: Age, dtype: float64\n"
     ]
    }
   ],
   "source": [
    "# What is the average age of employees who left vs. stayed?\n",
    "print(df.groupby(\"Attrition\")[\"Age\"].mean().round())"
   ]
  },
  {
   "cell_type": "code",
   "execution_count": 37,
   "id": "5458d88e-9dc3-4943-94ea-e097c4259c15",
   "metadata": {},
   "outputs": [
    {
     "name": "stdout",
     "output_type": "stream",
     "text": [
      "Department              Attrition\n",
      "Human Resources         No           80.95\n",
      "                        Yes          19.05\n",
      "Research & Development  No           86.16\n",
      "                        Yes          13.84\n",
      "Sales                   No           79.37\n",
      "                        Yes          20.63\n",
      "Name: proportion, dtype: float64\n"
     ]
    }
   ],
   "source": [
    "# What is the attrition rate across departments?\n",
    "print((df.groupby(\"Department\")[\"Attrition\"].value_counts(normalize=True)*100).round(2))"
   ]
  },
  {
   "cell_type": "code",
   "execution_count": 44,
   "id": "9f174be8-e6df-45cf-9fa6-b5dbbb62dc05",
   "metadata": {},
   "outputs": [
    {
     "name": "stdout",
     "output_type": "stream",
     "text": [
      "Correlation: 0.07792358295570376\n"
     ]
    }
   ],
   "source": [
    "# Is there any correlation between distance from home and attrition?\n",
    "df[\"Attrition_Numeric\"] = df[\"Attrition\"].map({\"Yes\": 1, \"No\": 0})\n",
    "corr = df[\"DistanceFromHome\"].corr(df[\"Attrition_Numeric\"])\n",
    "print(f\"Correlation: {corr}\")"
   ]
  },
  {
   "cell_type": "code",
   "execution_count": 46,
   "id": "92c3c204-295a-43b1-ada5-078404bd5137",
   "metadata": {},
   "outputs": [
    {
     "name": "stdout",
     "output_type": "stream",
     "text": [
      "0       Yes\n",
      "1        No\n",
      "2       Yes\n",
      "3       Yes\n",
      "4        No\n",
      "       ... \n",
      "1465     No\n",
      "1466     No\n",
      "1467    Yes\n",
      "1468     No\n",
      "1469     No\n",
      "Name: OverTime, Length: 1470, dtype: object\n"
     ]
    }
   ],
   "source": [
    "# What is the relationship between overtime and attrition?\n",
    "overtime_numeric = df[\"OverTime\"].map({\"Ye\"})\n",
    "print(df[\"OverTime\"])"
   ]
  }
 ],
 "metadata": {
  "kernelspec": {
   "display_name": "Python 3 (ipykernel)",
   "language": "python",
   "name": "python3"
  },
  "language_info": {
   "codemirror_mode": {
    "name": "ipython",
    "version": 3
   },
   "file_extension": ".py",
   "mimetype": "text/x-python",
   "name": "python",
   "nbconvert_exporter": "python",
   "pygments_lexer": "ipython3",
   "version": "3.13.1"
  }
 },
 "nbformat": 4,
 "nbformat_minor": 5
}
