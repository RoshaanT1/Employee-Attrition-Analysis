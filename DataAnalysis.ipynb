{
 "cells": [
  {
   "cell_type": "code",
   "execution_count": 1,
   "id": "ad0203b4-2755-4514-bfa1-7a25643dec37",
   "metadata": {},
   "outputs": [
    {
     "name": "stderr",
     "output_type": "stream",
     "text": [
      "C:\\Users\\HP\\AppData\\Local\\Programs\\Python\\Python313\\Lib\\site-packages\\tqdm\\auto.py:21: TqdmWarning: IProgress not found. Please update jupyter and ipywidgets. See https://ipywidgets.readthedocs.io/en/stable/user_install.html\n",
      "  from .autonotebook import tqdm as notebook_tqdm\n",
      "C:\\Users\\HP\\AppData\\Local\\Temp\\ipykernel_10892\\3169030197.py:9: DeprecationWarning: load_dataset is deprecated and will be removed in a future version.\n",
      "  df = kagglehub.load_dataset(\n"
     ]
    },
    {
     "name": "stdout",
     "output_type": "stream",
     "text": [
      "<class 'pandas.core.frame.DataFrame'>\n",
      "RangeIndex: 1470 entries, 0 to 1469\n",
      "Data columns (total 35 columns):\n",
      " #   Column                    Non-Null Count  Dtype \n",
      "---  ------                    --------------  ----- \n",
      " 0   Age                       1470 non-null   int64 \n",
      " 1   Attrition                 1470 non-null   object\n",
      " 2   BusinessTravel            1470 non-null   object\n",
      " 3   DailyRate                 1470 non-null   int64 \n",
      " 4   Department                1470 non-null   object\n",
      " 5   DistanceFromHome          1470 non-null   int64 \n",
      " 6   Education                 1470 non-null   int64 \n",
      " 7   EducationField            1470 non-null   object\n",
      " 8   EmployeeCount             1470 non-null   int64 \n",
      " 9   EmployeeNumber            1470 non-null   int64 \n",
      " 10  EnvironmentSatisfaction   1470 non-null   int64 \n",
      " 11  Gender                    1470 non-null   object\n",
      " 12  HourlyRate                1470 non-null   int64 \n",
      " 13  JobInvolvement            1470 non-null   int64 \n",
      " 14  JobLevel                  1470 non-null   int64 \n",
      " 15  JobRole                   1470 non-null   object\n",
      " 16  JobSatisfaction           1470 non-null   int64 \n",
      " 17  MaritalStatus             1470 non-null   object\n",
      " 18  MonthlyIncome             1470 non-null   int64 \n",
      " 19  MonthlyRate               1470 non-null   int64 \n",
      " 20  NumCompaniesWorked        1470 non-null   int64 \n",
      " 21  Over18                    1470 non-null   object\n",
      " 22  OverTime                  1470 non-null   object\n",
      " 23  PercentSalaryHike         1470 non-null   int64 \n",
      " 24  PerformanceRating         1470 non-null   int64 \n",
      " 25  RelationshipSatisfaction  1470 non-null   int64 \n",
      " 26  StandardHours             1470 non-null   int64 \n",
      " 27  StockOptionLevel          1470 non-null   int64 \n",
      " 28  TotalWorkingYears         1470 non-null   int64 \n",
      " 29  TrainingTimesLastYear     1470 non-null   int64 \n",
      " 30  WorkLifeBalance           1470 non-null   int64 \n",
      " 31  YearsAtCompany            1470 non-null   int64 \n",
      " 32  YearsInCurrentRole        1470 non-null   int64 \n",
      " 33  YearsSinceLastPromotion   1470 non-null   int64 \n",
      " 34  YearsWithCurrManager      1470 non-null   int64 \n",
      "dtypes: int64(26), object(9)\n",
      "memory usage: 402.1+ KB\n",
      "First 5 records: None\n"
     ]
    }
   ],
   "source": [
    "# pip install kagglehub[pandas-datasets]\n",
    "import kagglehub\n",
    "from kagglehub import KaggleDatasetAdapter\n",
    "\n",
    "# Correct file name from the dataset\n",
    "file_path = \"WA_Fn-UseC_-HR-Employee-Attrition.csv\"\n",
    "\n",
    "# Load the latest version\n",
    "df = kagglehub.load_dataset(\n",
    "    KaggleDatasetAdapter.PANDAS,\n",
    "    \"pavansubhasht/ibm-hr-analytics-attrition-dataset\",\n",
    "    file_path\n",
    ")\n",
    "\n",
    "print(\"First 5 records:\", df.info())\n"
   ]
  },
  {
   "cell_type": "code",
   "execution_count": 61,
   "id": "19bf0e7a-11b0-4311-ad30-06a06adebcdc",
   "metadata": {},
   "outputs": [
    {
     "name": "stdout",
     "output_type": "stream",
     "text": [
      "Index(['Age', 'Attrition', 'BusinessTravel', 'DailyRate', 'Department',\n",
      "       'DistanceFromHome', 'Education', 'EducationField', 'EmployeeCount',\n",
      "       'EmployeeNumber', 'EnvironmentSatisfaction', 'Gender', 'HourlyRate',\n",
      "       'JobInvolvement', 'JobLevel', 'JobRole', 'JobSatisfaction',\n",
      "       'MaritalStatus', 'MonthlyIncome', 'MonthlyRate', 'NumCompaniesWorked',\n",
      "       'Over18', 'OverTime', 'PercentSalaryHike', 'PerformanceRating',\n",
      "       'RelationshipSatisfaction', 'StandardHours', 'StockOptionLevel',\n",
      "       'TotalWorkingYears', 'TrainingTimesLastYear', 'WorkLifeBalance',\n",
      "       'YearsAtCompany', 'YearsInCurrentRole', 'YearsSinceLastPromotion',\n",
      "       'YearsWithCurrManager', 'Attrition_Numeric'],\n",
      "      dtype='object')\n"
     ]
    }
   ],
   "source": [
    "print(df.columns)"
   ]
  },
  {
   "cell_type": "code",
   "execution_count": 64,
   "id": "1cb06bbd-0162-422d-b369-bbb8cf12f357",
   "metadata": {},
   "outputs": [
    {
     "name": "stdout",
     "output_type": "stream",
     "text": [
      "Age                         0\n",
      "Attrition                   0\n",
      "BusinessTravel              0\n",
      "DailyRate                   0\n",
      "Department                  0\n",
      "DistanceFromHome            0\n",
      "Education                   0\n",
      "EducationField              0\n",
      "EmployeeCount               0\n",
      "EmployeeNumber              0\n",
      "EnvironmentSatisfaction     0\n",
      "Gender                      0\n",
      "HourlyRate                  0\n",
      "JobInvolvement              0\n",
      "JobLevel                    0\n",
      "JobRole                     0\n",
      "JobSatisfaction             0\n",
      "MaritalStatus               0\n",
      "MonthlyIncome               0\n",
      "MonthlyRate                 0\n",
      "NumCompaniesWorked          0\n",
      "Over18                      0\n",
      "OverTime                    0\n",
      "PercentSalaryHike           0\n",
      "PerformanceRating           0\n",
      "RelationshipSatisfaction    0\n",
      "StandardHours               0\n",
      "StockOptionLevel            0\n",
      "TotalWorkingYears           0\n",
      "TrainingTimesLastYear       0\n",
      "WorkLifeBalance             0\n",
      "YearsAtCompany              0\n",
      "YearsInCurrentRole          0\n",
      "YearsSinceLastPromotion     0\n",
      "YearsWithCurrManager        0\n",
      "Attrition_Numeric           0\n",
      "dtype: int64\n"
     ]
    }
   ],
   "source": [
    "# Which features have the most missing values (if any)?\n",
    "print(df.isna().sum())"
   ]
  },
  {
   "cell_type": "code",
   "execution_count": 10,
   "id": "8e2ee9c3-8b06-47f0-85ca-c98295cd5c18",
   "metadata": {},
   "outputs": [
    {
     "name": "stdout",
     "output_type": "stream",
     "text": [
      "(1470, 35)\n"
     ]
    }
   ],
   "source": [
    "# Total Number of employees: 1470\n",
    "print(df.shape)"
   ]
  },
  {
   "cell_type": "code",
   "execution_count": 15,
   "id": "d4a9bb19-96d8-4853-9814-57610448a6f9",
   "metadata": {},
   "outputs": [
    {
     "name": "stdout",
     "output_type": "stream",
     "text": [
      "1233\n"
     ]
    }
   ],
   "source": [
    "# How many left the company\n",
    "print(df[\"Attrition\"].value_counts()[\"No\"])"
   ]
  },
  {
   "cell_type": "code",
   "execution_count": 23,
   "id": "40932202-1c73-4972-a577-45cf0e29525e",
   "metadata": {},
   "outputs": [
    {
     "name": "stdout",
     "output_type": "stream",
     "text": [
      "Attrition\n",
      "No     38.0\n",
      "Yes    34.0\n",
      "Name: Age, dtype: float64\n"
     ]
    }
   ],
   "source": [
    "# What is the average age of employees who left vs. stayed?\n",
    "print(df.groupby(\"Attrition\")[\"Age\"].mean().round())"
   ]
  },
  {
   "cell_type": "code",
   "execution_count": 37,
   "id": "5458d88e-9dc3-4943-94ea-e097c4259c15",
   "metadata": {},
   "outputs": [
    {
     "name": "stdout",
     "output_type": "stream",
     "text": [
      "Department              Attrition\n",
      "Human Resources         No           80.95\n",
      "                        Yes          19.05\n",
      "Research & Development  No           86.16\n",
      "                        Yes          13.84\n",
      "Sales                   No           79.37\n",
      "                        Yes          20.63\n",
      "Name: proportion, dtype: float64\n"
     ]
    }
   ],
   "source": [
    "# What is the attrition rate across departments?\n",
    "print((df.groupby(\"Department\")[\"Attrition\"].value_counts(normalize=True)*100).round(2))"
   ]
  },
  {
   "cell_type": "code",
   "execution_count": 54,
   "id": "9f174be8-e6df-45cf-9fa6-b5dbbb62dc05",
   "metadata": {},
   "outputs": [
    {
     "name": "stdout",
     "output_type": "stream",
     "text": [
      "Correlation: 0.078\n"
     ]
    }
   ],
   "source": [
    "# Is there any correlation between distance from home and attrition?\n",
    "df[\"Attrition_Numeric\"] = df[\"Attrition\"].map({\"Yes\": 1, \"No\": 0})\n",
    "corr = df[\"DistanceFromHome\"].corr(df[\"Attrition_Numeric\"]).round(3)\n",
    "print(f\"Correlation: {corr}\")"
   ]
  },
  {
   "cell_type": "code",
   "execution_count": 56,
   "id": "92c3c204-295a-43b1-ada5-078404bd5137",
   "metadata": {},
   "outputs": [
    {
     "name": "stdout",
     "output_type": "stream",
     "text": [
      "Correlation: 0.246\n"
     ]
    }
   ],
   "source": [
    "# What is the relationship between overtime and attrition?\n",
    "overtime_numeric = df[\"OverTime\"].map({\"Yes\": 1, \"No\": 0})\n",
    "corr_overtime = df[\"Attrition_Numeric\"].corr(overtime_numeric).round(3)\n",
    "print(f\"Correlation: {corr_overtime}\")"
   ]
  },
  {
   "cell_type": "code",
   "execution_count": 60,
   "id": "73b32b3c-b1b3-4260-bce7-08c024f16ade",
   "metadata": {},
   "outputs": [
    {
     "name": "stdout",
     "output_type": "stream",
     "text": [
      "Correlation: -0.16\n"
     ]
    }
   ],
   "source": [
    "# How does monthly income impact attrition?\n",
    "income_attrition = df[\"MonthlyIncome\"].corr(df[\"Attrition_Numeric\"]).round(3)\n",
    "print(f\"Correlation: {income_attrition}\")"
   ]
  },
  {
   "cell_type": "code",
   "execution_count": null,
   "id": "ddbf1876-99ec-4e3d-a3c4-2ab1c3de0227",
   "metadata": {},
   "outputs": [],
   "source": []
  }
 ],
 "metadata": {
  "kernelspec": {
   "display_name": "Python 3 (ipykernel)",
   "language": "python",
   "name": "python3"
  },
  "language_info": {
   "codemirror_mode": {
    "name": "ipython",
    "version": 3
   },
   "file_extension": ".py",
   "mimetype": "text/x-python",
   "name": "python",
   "nbconvert_exporter": "python",
   "pygments_lexer": "ipython3",
   "version": "3.13.1"
  }
 },
 "nbformat": 4,
 "nbformat_minor": 5
}
